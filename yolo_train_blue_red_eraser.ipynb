{
  "nbformat": 4,
  "nbformat_minor": 0,
  "metadata": {
    "colab": {
      "provenance": [],
      "gpuType": "T4",
      "authorship_tag": "ABX9TyOcT25LCHpb1WZ+h/2/4u/X",
      "include_colab_link": true
    },
    "kernelspec": {
      "name": "python3",
      "display_name": "Python 3"
    },
    "language_info": {
      "name": "python"
    },
    "accelerator": "GPU"
  },
  "cells": [
    {
      "cell_type": "markdown",
      "metadata": {
        "id": "view-in-github",
        "colab_type": "text"
      },
      "source": [
        "<a href=\"https://colab.research.google.com/github/dchlseo/DS-Toolkit/blob/master/yolo_train_blue_red_eraser.ipynb\" target=\"_parent\"><img src=\"https://colab.research.google.com/assets/colab-badge.svg\" alt=\"Open In Colab\"/></a>"
      ]
    },
    {
      "cell_type": "code",
      "execution_count": 1,
      "metadata": {
        "colab": {
          "base_uri": "https://localhost:8080/"
        },
        "id": "WAgbQsUksiUB",
        "outputId": "38a5e538-2082-4231-e6e9-e97a8630c7b6"
      },
      "outputs": [
        {
          "output_type": "stream",
          "name": "stdout",
          "text": [
            "Mounted at /content/drive\n"
          ]
        }
      ],
      "source": [
        "from google.colab import drive\n",
        "drive.mount('/content/drive')"
      ]
    },
    {
      "cell_type": "code",
      "source": [
        "# BASIC CONFIG (필요한 파라미터 값 여기서 설정)\n",
        "\n",
        "data_dir = '/content/drive/MyDrive/00DataScience/ds_study/DLproject/yolo_eraser/data/'\n",
        "model = 'yolov8n.pt'  # pretrained yolov8n\n",
        "\n",
        "classes = ['blue_eraser', 'red_eraser']  # 라벨명\n",
        "yaml_file = 'eraser_data.yaml'  # yaml 파일명\n",
        "\n",
        "training_epoch = 5\n",
        "patience = 20  # 지정한 epoch 만큼 성능이 개선이 안되면 조기종료.\n",
        "batch = 16  # batch size (dafault)\n",
        "imgsz = 640  # input batch size (default)\n",
        "optimizer = 'Adam'\n"
      ],
      "metadata": {
        "id": "PEKDRFlD6GyA"
      },
      "execution_count": 21,
      "outputs": []
    },
    {
      "cell_type": "code",
      "source": [
        "!nvidia-smi"
      ],
      "metadata": {
        "colab": {
          "base_uri": "https://localhost:8080/"
        },
        "id": "7U_K1Ppttuiu",
        "outputId": "37b93924-2b35-4666-e1a8-2489757e583b"
      },
      "execution_count": 2,
      "outputs": [
        {
          "output_type": "stream",
          "name": "stdout",
          "text": [
            "Tue Nov 28 16:18:22 2023       \n",
            "+-----------------------------------------------------------------------------+\n",
            "| NVIDIA-SMI 525.105.17   Driver Version: 525.105.17   CUDA Version: 12.0     |\n",
            "|-------------------------------+----------------------+----------------------+\n",
            "| GPU  Name        Persistence-M| Bus-Id        Disp.A | Volatile Uncorr. ECC |\n",
            "| Fan  Temp  Perf  Pwr:Usage/Cap|         Memory-Usage | GPU-Util  Compute M. |\n",
            "|                               |                      |               MIG M. |\n",
            "|===============================+======================+======================|\n",
            "|   0  Tesla T4            Off  | 00000000:00:04.0 Off |                    0 |\n",
            "| N/A   50C    P8    10W /  70W |      0MiB / 15360MiB |      0%      Default |\n",
            "|                               |                      |                  N/A |\n",
            "+-------------------------------+----------------------+----------------------+\n",
            "                                                                               \n",
            "+-----------------------------------------------------------------------------+\n",
            "| Processes:                                                                  |\n",
            "|  GPU   GI   CI        PID   Type   Process name                  GPU Memory |\n",
            "|        ID   ID                                                   Usage      |\n",
            "|=============================================================================|\n",
            "|  No running processes found                                                 |\n",
            "+-----------------------------------------------------------------------------+\n"
          ]
        }
      ]
    },
    {
      "cell_type": "markdown",
      "source": [
        "### ULTRALYTICS SETUP"
      ],
      "metadata": {
        "id": "PAiHQ8aVwnyQ"
      }
    },
    {
      "cell_type": "code",
      "source": [
        "%pip install ultralytics\n",
        "import ultralytics\n",
        "ultralytics.checks()"
      ],
      "metadata": {
        "colab": {
          "base_uri": "https://localhost:8080/"
        },
        "id": "8OVR9lG-uW-4",
        "outputId": "977cd50a-3455-463e-831a-9f68546010e7"
      },
      "execution_count": 4,
      "outputs": [
        {
          "output_type": "stream",
          "name": "stdout",
          "text": [
            "Ultralytics YOLOv8.0.219 🚀 Python-3.10.12 torch-2.1.0+cu118 CUDA:0 (Tesla T4, 15102MiB)\n",
            "Setup complete ✅ (2 CPUs, 12.7 GB RAM, 26.9/166.8 GB disk)\n"
          ]
        }
      ]
    },
    {
      "cell_type": "code",
      "source": [
        "from ultralytics import YOLO\n",
        "import os\n",
        "from IPython.display import display, Image\n",
        "from IPython import display\n",
        "display.clear_output()\n",
        "!yolo checks"
      ],
      "metadata": {
        "colab": {
          "base_uri": "https://localhost:8080/"
        },
        "id": "GaMblytFuYGK",
        "outputId": "1a3d7e25-cbf8-4ba1-cf3d-53c372b90a33"
      },
      "execution_count": 8,
      "outputs": [
        {
          "output_type": "stream",
          "name": "stdout",
          "text": [
            "\u001b[2K\r\u001b[2K\rUltralytics YOLOv8.0.219 🚀 Python-3.10.12 torch-2.1.0+cu118 CUDA:0 (Tesla T4, 15102MiB)\n",
            "Setup complete ✅ (2 CPUs, 12.7 GB RAM, 26.9/166.8 GB disk)\n",
            "\n",
            "OS                  Linux-5.15.120+-x86_64-with-glibc2.35\n",
            "Environment         Colab\n",
            "Python              3.10.12\n",
            "Install             pip\n",
            "RAM                 12.68 GB\n",
            "CPU                 Intel Xeon 2.00GHz\n",
            "CUDA                11.8\n",
            "\n",
            "matplotlib          ✅ 3.7.1>=3.3.0\n",
            "numpy               ✅ 1.23.5>=1.22.2\n",
            "opencv-python       ✅ 4.8.0.76>=4.6.0\n",
            "pillow              ✅ 9.4.0>=7.1.2\n",
            "pyyaml              ✅ 6.0.1>=5.3.1\n",
            "requests            ✅ 2.31.0>=2.23.0\n",
            "scipy               ✅ 1.11.3>=1.4.1\n",
            "torch               ✅ 2.1.0+cu118>=1.8.0\n",
            "torchvision         ✅ 0.16.0+cu118>=0.9.0\n",
            "tqdm                ✅ 4.66.1>=4.64.0\n",
            "pandas              ✅ 1.5.3>=1.1.4\n",
            "seaborn             ✅ 0.12.2>=0.11.0\n",
            "psutil              ✅ 5.9.5\n",
            "py-cpuinfo          ✅ 9.0.0\n",
            "thop                ✅ 0.1.1-2209072238>=0.1.1\n"
          ]
        }
      ]
    },
    {
      "cell_type": "code",
      "source": [
        "# install comet\n",
        "%pip install comet_ml --quiet"
      ],
      "metadata": {
        "colab": {
          "base_uri": "https://localhost:8080/"
        },
        "id": "NT9nL7ZrztN4",
        "outputId": "d7c90896-4a17-4b7e-acb8-e0d9e486fede"
      },
      "execution_count": 9,
      "outputs": [
        {
          "output_type": "stream",
          "name": "stdout",
          "text": [
            "\u001b[2K     \u001b[90m━━━━━━━━━━━━━━━━━━━━━━━━━━━━━━━━━━━━━━━━\u001b[0m \u001b[32m586.4/586.4 kB\u001b[0m \u001b[31m6.1 MB/s\u001b[0m eta \u001b[36m0:00:00\u001b[0m\n",
            "\u001b[2K     \u001b[90m━━━━━━━━━━━━━━━━━━━━━━━━━━━━━━━━━━━━━━━━\u001b[0m \u001b[32m3.3/3.3 MB\u001b[0m \u001b[31m17.1 MB/s\u001b[0m eta \u001b[36m0:00:00\u001b[0m\n",
            "\u001b[2K     \u001b[90m━━━━━━━━━━━━━━━━━━━━━━━━━━━━━━━━━━━━━━━━\u001b[0m \u001b[32m54.5/54.5 kB\u001b[0m \u001b[31m7.6 MB/s\u001b[0m eta \u001b[36m0:00:00\u001b[0m\n",
            "\u001b[2K     \u001b[90m━━━━━━━━━━━━━━━━━━━━━━━━━━━━━━━━━━━━━━━━\u001b[0m \u001b[32m251.7/251.7 kB\u001b[0m \u001b[31m19.1 MB/s\u001b[0m eta \u001b[36m0:00:00\u001b[0m\n",
            "\u001b[2K     \u001b[90m━━━━━━━━━━━━━━━━━━━━━━━━━━━━━━━━━━━━━━━━\u001b[0m \u001b[32m137.9/137.9 kB\u001b[0m \u001b[31m14.9 MB/s\u001b[0m eta \u001b[36m0:00:00\u001b[0m\n",
            "\u001b[2K     \u001b[90m━━━━━━━━━━━━━━━━━━━━━━━━━━━━━━━━━━━━━━━━\u001b[0m \u001b[32m54.3/54.3 kB\u001b[0m \u001b[31m4.4 MB/s\u001b[0m eta \u001b[36m0:00:00\u001b[0m\n",
            "\u001b[2K     \u001b[90m━━━━━━━━━━━━━━━━━━━━━━━━━━━━━━━━━━━━━━━━\u001b[0m \u001b[32m512.2/512.2 kB\u001b[0m \u001b[31m28.6 MB/s\u001b[0m eta \u001b[36m0:00:00\u001b[0m\n",
            "\u001b[?25h"
          ]
        }
      ]
    },
    {
      "cell_type": "code",
      "source": [
        "# #@title Select YOLOv8 🚀 logger {run: 'auto'}\n",
        "# logger = 'TensorBoard' #@param ['Comet', 'TensorBoard']\n",
        "\n",
        "# if logger == 'Comet':\n",
        "#   %pip install -q comet_ml\n",
        "#   import comet_ml; comet_ml.init()\n",
        "# elif logger == 'TensorBoard':\n",
        "#   %load_ext tensorboard\n",
        "#   %tensorboard --logdir ."
      ],
      "metadata": {
        "id": "TMXbbizbz-w9"
      },
      "execution_count": 26,
      "outputs": []
    },
    {
      "cell_type": "markdown",
      "source": [
        "### Create yaml file"
      ],
      "metadata": {
        "id": "9o85-tXCvsSw"
      }
    },
    {
      "cell_type": "code",
      "source": [
        "# python: dictionary <----------> yaml\n",
        "import yaml\n",
        "import os\n",
        "\n",
        "data = {\n",
        "    'train': data_dir + 'train',\n",
        "    'val': data_dir + 'val',\n",
        "    'test': data_dir + 'test',\n",
        "    'nc': 2,\n",
        "    'names': classes\n",
        "}\n",
        "\n",
        "os.makedirs(data_dir, exist_ok = True) # directory to save\n",
        "\n",
        "with open(data_dir + yaml_file, 'wt') as fw:\n",
        "    yaml.dump(data, fw)\n",
        ""
      ],
      "metadata": {
        "id": "CnhmlB8Zx3gV"
      },
      "execution_count": 22,
      "outputs": []
    },
    {
      "cell_type": "code",
      "source": [
        "with open(data_dir + yaml_file, 'rt') as fr:\n",
        "    d = yaml.safe_load(fr)\n",
        "    print(type(d))\n",
        "    print(d)"
      ],
      "metadata": {
        "colab": {
          "base_uri": "https://localhost:8080/"
        },
        "id": "ofxf8WpF3T89",
        "outputId": "958adac4-8940-4d14-c861-aa4c879a94f3"
      },
      "execution_count": 23,
      "outputs": [
        {
          "output_type": "stream",
          "name": "stdout",
          "text": [
            "<class 'dict'>\n",
            "{'names': ['blue_eraser', 'red_eraser'], 'nc': 2, 'test': '/content/drive/MyDrive/00DataScience/ds_study/DLproject/yolo_eraser/data/test', 'train': '/content/drive/MyDrive/00DataScience/ds_study/DLproject/yolo_eraser/data/train', 'val': '/content/drive/MyDrive/00DataScience/ds_study/DLproject/yolo_eraser/data/val'}\n"
          ]
        }
      ]
    },
    {
      "cell_type": "markdown",
      "source": [
        "### Model Training"
      ],
      "metadata": {
        "id": "LwgzddZcA_Ss"
      }
    },
    {
      "cell_type": "code",
      "source": [
        "model = YOLO(model)  # pretrained yolov8n\n",
        "\n",
        "model.train(data = data_dir + yaml_file,\n",
        "            epochs = training_epoch,\n",
        "            patience = patience, # 지정한 epoch 만큼 성능이 개선이 안되면 조기종료.\n",
        "            batch = batch, # batch size (dafault)\n",
        "            imgsz = imgsz, # input batch size (default)\n",
        "            optimizer = optimizer)"
      ],
      "metadata": {
        "id": "O_M2oal-52UT"
      },
      "execution_count": null,
      "outputs": []
    },
    {
      "cell_type": "markdown",
      "source": [
        "### Model Save"
      ],
      "metadata": {
        "id": "XGAW3F2vA8PB"
      }
    }
  ]
}